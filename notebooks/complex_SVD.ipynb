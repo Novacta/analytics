{
 "cells": [
  {
   "cell_type": "markdown",
   "metadata": {},
   "source": [
    "# Complex Singular Value Decompositions using the Novacta.Analytics library\n",
    "\n",
    "## Introduction\n",
    "\n",
    "The **Novacta.Analytics** library provides methods to compute the Singular Value\n",
    "Decomposition (SVD) of double or complex matrices.\n",
    "\n",
    "Let $A$ be an $m \\times n$ matrix. Its SVD is a factorization having the form\n",
    "$$\n",
    "A = U \\Sigma V^{h},\n",
    "$$\n",
    "where \n",
    "where $X^h$ returns the conjugate transpose of \n",
    "$X$, $U$ and $V$ are unitary complex \n",
    "matrices having sizes $m \\times m$ and $n \\times n$,\n",
    "respectively, and\n",
    "$\\Sigma$ is a diagonal $m \\times n$ real matrix.\n",
    "Matrix $U$ has \n",
    "columns known as <i>left singular vectors</i>.\n",
    "Matrix $\\Sigma$ has diagonal entries known as the\n",
    "<i>singular values</i> of $A$. Finally, \n",
    "matrix $V^{h}$ has rows that represent\n",
    "the conjugate transposed <i>right singular vectors</i>\n",
    "of $A$. \n",
    "## How to compute a Complex SVD\n",
    "### Load the package"
   ]
  },
  {
   "cell_type": "code",
   "execution_count": null,
   "metadata": {
    "dotnet_interactive": {
     "language": "csharp"
    }
   },
   "outputs": [
    {
     "data": {
      "text/html": [
       "<div><div></div><div></div><div><strong>Installed Packages</strong><ul><li><span>Novacta.Analytics, 2.0.0</span></li></ul></div></div>"
      ]
     },
     "metadata": {},
     "output_type": "display_data"
    }
   ],
   "source": [
    "// https://github.com/Novacta/analytics\n",
    "#r \"nuget: Novacta.Analytics\"\n",
    "using Novacta.Analytics;\n",
    "using Novacta.Analytics.Advanced;\n",
    "using System.Numerics;"
   ]
  },
  {
   "cell_type": "markdown",
   "metadata": {},
   "source": [
    "### Create a complex matrix"
   ]
  },
  {
   "cell_type": "code",
   "execution_count": null,
   "metadata": {
    "dotnet_interactive": {
     "language": "csharp"
    }
   },
   "outputs": [
    {
     "data": {
      "text/plain": [
       "(                1,               -2) (                0,               -1) \r\n",
       "(                1,                0) (               -3,                5) \r\n",
       "(                6,                2) (                4,                7) \r\n",
       "\r\n"
      ]
     },
     "metadata": {},
     "output_type": "display_data"
    }
   ],
   "source": [
    "var data = new Complex[6] {\n",
    "    new Complex( 1, -2),   new Complex(0, -1),    \n",
    "    new Complex(1, 0),     new Complex(-3, 5),    \n",
    "    new Complex(6,  2),    new Complex(4, 7) };\n",
    "\n",
    "var m = ComplexMatrix.Dense(3, 2, data, StorageOrder.RowMajor);\n",
    "\n",
    "m.ToString()"
   ]
  },
  {
   "cell_type": "markdown",
   "metadata": {},
   "source": [
    "### Compute its SVD"
   ]
  },
  {
   "cell_type": "code",
   "execution_count": null,
   "metadata": {
    "dotnet_interactive": {
     "language": "csharp"
    }
   },
   "outputs": [],
   "source": [
    "var v = SingularValueDecomposition.Decompose(m, out ComplexMatrix u, out ComplexMatrix vh);"
   ]
  },
  {
   "cell_type": "markdown",
   "metadata": {},
   "source": [
    "### Inspect the results\n",
    "Variable `v` contains the singular values of `m`, i.e. it returns matrix $\\Sigma$:"
   ]
  },
  {
   "cell_type": "code",
   "execution_count": null,
   "metadata": {
    "dotnet_interactive": {
     "language": "csharp"
    }
   },
   "outputs": [
    {
     "data": {
      "text/plain": [
       "11.5115031       0                \r\n",
       "0                3.6722331        \r\n",
       "0                0                \r\n",
       "\r\n"
      ]
     },
     "metadata": {},
     "output_type": "display_data"
    }
   ],
   "source": [
    "v.ToString()"
   ]
  },
  {
   "cell_type": "markdown",
   "metadata": {},
   "source": [
    "Variable `u` contains the *left singular vectors* of $A$, i.e. matrix $U$:"
   ]
  },
  {
   "cell_type": "code",
   "execution_count": null,
   "metadata": {
    "dotnet_interactive": {
     "language": "csharp"
    }
   },
   "outputs": [
    {
     "data": {
      "text/plain": [
       "(       0.00765951,      0.142470941) (      0.334132177,     -0.365031604) (     -0.571128036,      0.639189914) \r\n",
       "(     -0.155715936,     -0.417515029) (     0.0201655254,      -0.80235922) (    -0.0245684475,     -0.395781725) \r\n",
       "(     -0.850513336,     -0.240216934) (      0.282001691,      0.177188309) (      0.236169053,      0.228530998) \r\n",
       "\r\n"
      ]
     },
     "metadata": {},
     "output_type": "display_data"
    }
   ],
   "source": [
    "\n",
    "u.ToString()"
   ]
  },
  {
   "cell_type": "markdown",
   "metadata": {},
   "source": [
    "Variable `vh` contains the conjugate transposed *right singular vectors* of $A$, i.e. matrix $V^h$:"
   ]
  },
  {
   "cell_type": "code",
   "execution_count": null,
   "metadata": {
    "dotnet_interactive": {
     "language": "csharp"
    }
   },
   "outputs": [
    {
     "data": {
      "text/plain": [
       "(     -0.522652179,               -0) (      -0.59475032,     -0.610824653) \r\n",
       "(       0.85254601,                0) (      -0.36461088,     -0.374465228) \r\n",
       "\r\n"
      ]
     },
     "metadata": {},
     "output_type": "display_data"
    }
   ],
   "source": [
    "vh.ToString()"
   ]
  }
 ],
 "metadata": {
  "kernelspec": {
   "display_name": ".NET (C#)",
   "language": "C#",
   "name": ".net-csharp"
  },
  "language_info": {
   "file_extension": ".cs",
   "mimetype": "text/x-csharp",
   "name": "C#",
   "pygments_lexer": "csharp",
   "version": "8.0"
  }
 },
 "nbformat": 4,
 "nbformat_minor": 2
}
